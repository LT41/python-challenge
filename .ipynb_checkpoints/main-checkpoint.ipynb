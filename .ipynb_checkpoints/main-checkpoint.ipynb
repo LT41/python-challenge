{
 "cells": [
  {
   "cell_type": "code",
   "execution_count": 8,
   "id": "b2aa8ec2-4b48-4167-a571-9bba23d958b6",
   "metadata": {},
   "outputs": [],
   "source": [
    "# PyBank Module 2 Challenge -- Luke Turner\n",
    "# Importing \n",
    "from pathlib import Path\n",
    "import csv\n",
    "\n",
    "# Declaring variables and lists \n",
    "dates = []\n",
    "total_profit = []\n",
    "high_low_list = []\n",
    "\n",
    "total_months = 0\n",
    "total_profits = 0\n",
    "profit = 0 \n",
    "min_profit = 0\n",
    "average_change = 0\n",
    "\n",
    "# File Path\n",
    "csv_path = Path('budget_data.csv')\n",
    "\n",
    "with open(csv_path, 'r') as csv_path:\n",
    "    budget_data = csv.reader(csv_path, delimiter = ',')\n",
    "    header = next(budget_data)\n",
    "    for line in budget_data:\n",
    "        \n",
    "        total_months += 1\n",
    "        dates.append(str(line[0]))\n",
    "        total_profit.append(int(line[1]))\n",
    "        total_profits = sum(total_profit)\n",
    "        \n",
    "        profit = int(line[1])\n",
    "    \n",
    "        # Assigns a new list that iterates through the list total_profit and returns a value subtracting each number from the one that preceded it to find the change from day to day \n",
    "        high_low_list = [total_profit[i+1] - total_profit[i] for i in range(len(total_profit) - 1)]\n",
    "        \n",
    "        for num in high_low_list:\n",
    "            if profit < num:\n",
    "                profit = num\n",
    "            if min_profit > num:\n",
    "                min_profit = num\n",
    "                \n",
    "       #Setting final variables         \n",
    "average_change = ((total_profit[-1] - (total_profit[0])) / (len(total_profit) - 1))\n",
    "    \n",
    "    # Probably there is a cleaner way to do this, but to find the corresponding dates to the highest and lowest profit days, I took the elements for those numbers and made their indexes an integer variable\n",
    "    # I then plugged those variables into the dates list that I made above so they correspond to the high and low price data. \n",
    "    # It was necessary to add 1 to the index becasue the lists work by subtracting a number from the one that preceded it. \n",
    "    \n",
    "index_max = (int(high_low_list.index(profit))+1)\n",
    "index_min = (int(high_low_list.index(min_profit))+1)\n",
    "date_of_max = dates[index_max]\n",
    "date_of_min = dates[index_min]\n",
    "\n",
    "# Writing results to a txt file: \n",
    "with open('txt_path.txt' , 'w') as txt:\n",
    "    \n",
    "    txt.write('Financial Analysis' + '\\n' * 2)\n",
    "    txt.write('----------------------------' + '\\n' * 2)\n",
    "    txt.write(f'Total Months: {total_months}' + '\\n' * 2)\n",
    "    txt.write(f'Average Change: ${round(average_change, 2)}' + '\\n' * 2)\n",
    "    txt.write(f'Greatest Increase in Profits: {date_of_max} ${profit}' + '\\n' * 2) \n",
    "    txt.write(f'Greatest Decrease in Profits: {date_of_min} ${min_profit}' + '\\n' * 2)"
   ]
  },
  {
   "cell_type": "code",
   "execution_count": null,
   "id": "e76f496f-1aae-457b-b6f7-ff0a6a4cb689",
   "metadata": {},
   "outputs": [],
   "source": []
  },
  {
   "cell_type": "code",
   "execution_count": null,
   "id": "4e84464a-02e5-4a02-8fc6-95d97a1b2e3b",
   "metadata": {},
   "outputs": [],
   "source": []
  },
  {
   "cell_type": "code",
   "execution_count": null,
   "id": "0e219507-2894-4c17-ab28-8612304dc1a5",
   "metadata": {},
   "outputs": [],
   "source": []
  },
  {
   "cell_type": "code",
   "execution_count": null,
   "id": "585e4a5b-fde9-4eab-9a4c-465c7b2ad450",
   "metadata": {},
   "outputs": [],
   "source": [
    "\n"
   ]
  },
  {
   "cell_type": "code",
   "execution_count": null,
   "id": "898f5869-3cf5-4617-8d37-e73b37ee5d03",
   "metadata": {},
   "outputs": [],
   "source": []
  },
  {
   "cell_type": "code",
   "execution_count": null,
   "id": "5d74f0f2-838e-4950-a8bc-4016dd6c40a5",
   "metadata": {},
   "outputs": [],
   "source": []
  }
 ],
 "metadata": {
  "kernelspec": {
   "display_name": "Python 3 (ipykernel)",
   "language": "python",
   "name": "python3"
  },
  "language_info": {
   "codemirror_mode": {
    "name": "ipython",
    "version": 3
   },
   "file_extension": ".py",
   "mimetype": "text/x-python",
   "name": "python",
   "nbconvert_exporter": "python",
   "pygments_lexer": "ipython3",
   "version": "3.7.13"
  }
 },
 "nbformat": 4,
 "nbformat_minor": 5
}
